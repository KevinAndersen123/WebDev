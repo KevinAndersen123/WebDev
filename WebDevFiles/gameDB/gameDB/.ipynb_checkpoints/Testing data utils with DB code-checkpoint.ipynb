{
 "cells": [
  {
   "cell_type": "code",
   "execution_count": 1,
   "metadata": {},
   "outputs": [],
   "source": [
    "import data_utils"
   ]
  },
  {
   "cell_type": "code",
   "execution_count": 3,
   "metadata": {},
   "outputs": [],
   "source": [
    "data_utils.add_to_scores('Paul', 30.6, 12)\n",
    "data_utils.add_to_scores('Joe', 19.6, 8)\n",
    "data_utils.add_to_scores('Mary', 35.6, 17)\n",
    "data_utils.add_to_scores('Jane', 15.6, 7)\n",
    "data_utils.add_to_scores('Harry', 25.6, 9)\n",
    "data_utils.add_to_scores('Pat', 17.6, 3)\n",
    "data_utils.add_to_scores('Paul', 15.6, 8)\n",
    "data_utils.add_to_scores('John', 152.6, 17)"
   ]
  },
  {
   "cell_type": "code",
   "execution_count": 4,
   "metadata": {},
   "outputs": [
    {
     "data": {
      "text/plain": [
       "[('Pat', Decimal('17.60'), 3),\n",
       " ('Paul', Decimal('15.60'), 7),\n",
       " ('Jane', Decimal('15.60'), 7),\n",
       " ('Paul', Decimal('15.60'), 8),\n",
       " ('Joe', Decimal('19.60'), 8),\n",
       " ('Harry', Decimal('25.60'), 9),\n",
       " ('Paul', Decimal('30.60'), 12),\n",
       " ('Mary', Decimal('35.60'), 17),\n",
       " ('John', Decimal('152.60'), 17)]"
      ]
     },
     "execution_count": 4,
     "metadata": {},
     "output_type": "execute_result"
    }
   ],
   "source": [
    "data_utils.get_sorted_leaderboard()"
   ]
  },
  {
   "cell_type": "code",
   "execution_count": 5,
   "metadata": {},
   "outputs": [],
   "source": [
    "data = data_utils.get_sorted_leaderboard()"
   ]
  },
  {
   "cell_type": "code",
   "execution_count": 6,
   "metadata": {},
   "outputs": [
    {
     "data": {
      "text/plain": [
       "[('Pat', Decimal('17.60'), 3),\n",
       " ('Paul', Decimal('15.60'), 7),\n",
       " ('Jane', Decimal('15.60'), 7),\n",
       " ('Paul', Decimal('15.60'), 8),\n",
       " ('Joe', Decimal('19.60'), 8),\n",
       " ('Harry', Decimal('25.60'), 9),\n",
       " ('Paul', Decimal('30.60'), 12),\n",
       " ('Paul with Class', Decimal('47.34'), 12),\n",
       " ('Mary', Decimal('35.60'), 17),\n",
       " ('John', Decimal('152.60'), 17)]"
      ]
     },
     "execution_count": 6,
     "metadata": {},
     "output_type": "execute_result"
    }
   ],
   "source": [
    "data"
   ]
  },
  {
   "cell_type": "code",
   "execution_count": 8,
   "metadata": {},
   "outputs": [
    {
     "data": {
      "text/plain": [
       "[('Pat', 17.6, 3),\n",
       " ('Paul', 15.6, 7),\n",
       " ('Jane', 15.6, 7),\n",
       " ('Paul', 15.6, 8),\n",
       " ('Joe', 19.6, 8),\n",
       " ('Harry', 25.6, 9),\n",
       " ('Paul', 30.6, 12),\n",
       " ('Paul with Class', 47.34, 12),\n",
       " ('Mary', 35.6, 17),\n",
       " ('John', 152.6, 17)]"
      ]
     },
     "execution_count": 8,
     "metadata": {},
     "output_type": "execute_result"
    }
   ],
   "source": [
    "[ (row[0], float(row[1]), row[2]) for row in data ]"
   ]
  },
  {
   "cell_type": "code",
   "execution_count": null,
   "metadata": {},
   "outputs": [],
   "source": []
  }
 ],
 "metadata": {
  "kernelspec": {
   "display_name": "Python 3",
   "language": "python",
   "name": "python3"
  },
  "language_info": {
   "codemirror_mode": {
    "name": "ipython",
    "version": 3
   },
   "file_extension": ".py",
   "mimetype": "text/x-python",
   "name": "python",
   "nbconvert_exporter": "python",
   "pygments_lexer": "ipython3",
   "version": "3.7.6"
  }
 },
 "nbformat": 4,
 "nbformat_minor": 2
}
